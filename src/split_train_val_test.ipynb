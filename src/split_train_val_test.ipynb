{
 "nbformat": 4,
 "nbformat_minor": 0,
 "metadata": {
  "colab": {
   "name": "split_train_val_test.ipynb",
   "provenance": [],
   "collapsed_sections": [],
   "authorship_tag": "ABX9TyP5UNUh48DWCMTDQPTTFIm9"
  },
  "kernelspec": {
   "display_name": "Python 3",
   "name": "python3"
  }
 },
 "cells": [
  {
   "cell_type": "code",
   "metadata": {
    "id": "aZMtIBXl-HOs",
    "executionInfo": {
     "status": "ok",
     "timestamp": 1621322230368,
     "user_tz": -180,
     "elapsed": 852,
     "user": {
      "displayName": "Guy Hay",
      "photoUrl": "",
      "userId": "06159934666864177199"
     }
    }
   },
   "source": [
    "import os\n",
    "import numpy as np\n",
    "import pandas as pd\n",
    "import tensorflow as tf\n",
    "import tensorflow.keras as keras\n",
    "import matplotlib.pyplot as plt\n",
    "import matplotlib.gridspec as gridspec\n",
    "import cv2\n",
    "import time\n",
    "import sklearn.model_selection as skm"
   ],
   "execution_count": 13,
   "outputs": []
  },
  {
   "cell_type": "code",
   "metadata": {
    "colab": {
     "base_uri": "https://localhost:8080/"
    },
    "id": "gI8YnhIF-cTT",
    "executionInfo": {
     "status": "ok",
     "timestamp": 1621322230369,
     "user_tz": -180,
     "elapsed": 843,
     "user": {
      "displayName": "Guy Hay",
      "photoUrl": "",
      "userId": "06159934666864177199"
     }
    },
    "outputId": "a1e89f2d-a125-4b32-d167-2ffe913a7057"
   },
   "source": [
    "from google.colab import drive\n",
    "from google.colab.patches import cv2_imshow\n",
    "\n",
    "drive.mount(\"/content/gdrive\")"
   ],
   "execution_count": 14,
   "outputs": [
    {
     "output_type": "stream",
     "text": [
      "Drive already mounted at /content/gdrive; to attempt to forcibly remount, call drive.mount(\"/content/gdrive\", force_remount=True).\n"
     ],
     "name": "stdout"
    }
   ]
  },
  {
   "cell_type": "code",
   "metadata": {
    "id": "pEiEBL8f1MpR",
    "executionInfo": {
     "status": "ok",
     "timestamp": 1621322230369,
     "user_tz": -180,
     "elapsed": 837,
     "user": {
      "displayName": "Guy Hay",
      "photoUrl": "",
      "userId": "06159934666864177199"
     }
    }
   },
   "source": [
    "import sys\n",
    "\n",
    "sys.path.append(\"./gdrive/MyDrive/wildlife/Archeys_frogs\")"
   ],
   "execution_count": 15,
   "outputs": []
  },
  {
   "cell_type": "code",
   "metadata": {
    "id": "1S0pmsrr1SWg",
    "executionInfo": {
     "status": "ok",
     "timestamp": 1621322230370,
     "user_tz": -180,
     "elapsed": 833,
     "user": {
      "displayName": "Guy Hay",
      "photoUrl": "",
      "userId": "06159934666864177199"
     }
    }
   },
   "source": [
    "from LandMarkDataGenerator import LandMarkDataGenerator\n",
    "from LocalizationPointAccuracy import LocalizationPointAccuracy\n",
    "from CNNBlock import CNNBlock"
   ],
   "execution_count": 16,
   "outputs": []
  },
  {
   "cell_type": "code",
   "metadata": {
    "id": "wlYGYNAz-sHE",
    "executionInfo": {
     "status": "ok",
     "timestamp": 1621322230370,
     "user_tz": -180,
     "elapsed": 829,
     "user": {
      "displayName": "Guy Hay",
      "photoUrl": "",
      "userId": "06159934666864177199"
     }
    }
   },
   "source": [
    "DB_FILE_PATH = r\"./gdrive/MyDrive/wildlife/Archeys_frogs/image_path_anotations_db.pkl\""
   ],
   "execution_count": 17,
   "outputs": []
  },
  {
   "cell_type": "code",
   "metadata": {
    "id": "pilG7CYn-9Vt",
    "executionInfo": {
     "status": "ok",
     "timestamp": 1621322230370,
     "user_tz": -180,
     "elapsed": 824,
     "user": {
      "displayName": "Guy Hay",
      "photoUrl": "",
      "userId": "06159934666864177199"
     }
    }
   },
   "source": [
    "df = pd.read_pickle(DB_FILE_PATH)"
   ],
   "execution_count": 18,
   "outputs": []
  },
  {
   "cell_type": "code",
   "metadata": {
    "colab": {
     "base_uri": "https://localhost:8080/",
     "height": 215
    },
    "id": "UfUiWV1gG85o",
    "executionInfo": {
     "status": "ok",
     "timestamp": 1621322230668,
     "user_tz": -180,
     "elapsed": 1116,
     "user": {
      "displayName": "Guy Hay",
      "photoUrl": "",
      "userId": "06159934666864177199"
     }
    },
    "outputId": "4b10d57f-956d-46c3-e8ac-1e39b37715d4"
   },
   "source": [
    "df.head()"
   ],
   "execution_count": 19,
   "outputs": [
    {
     "output_type": "execute_result",
     "data": {
      "text/html": [
       "<div>\n",
       "<style scoped>\n",
       "    .dataframe tbody tr th:only-of-type {\n",
       "        vertical-align: middle;\n",
       "    }\n",
       "\n",
       "    .dataframe tbody tr th {\n",
       "        vertical-align: top;\n",
       "    }\n",
       "\n",
       "    .dataframe thead th {\n",
       "        text-align: right;\n",
       "    }\n",
       "</style>\n",
       "<table border=\"1\" class=\"dataframe\">\n",
       "  <thead>\n",
       "    <tr style=\"text-align: right;\">\n",
       "      <th></th>\n",
       "      <th>image_path</th>\n",
       "      <th>x_Left_eye</th>\n",
       "      <th>y_Left_eye</th>\n",
       "      <th>x_Left_front_leg</th>\n",
       "      <th>y_Left_front_leg</th>\n",
       "      <th>x_Right_eye</th>\n",
       "      <th>y_Right_eye</th>\n",
       "      <th>x_Right_front_leg</th>\n",
       "      <th>y_Right_front_leg</th>\n",
       "      <th>x_Tip_of_snout</th>\n",
       "      <th>y_Tip_of_snout</th>\n",
       "      <th>x_Vent</th>\n",
       "      <th>y_Vent</th>\n",
       "      <th>original_width_size</th>\n",
       "      <th>original_height_size</th>\n",
       "    </tr>\n",
       "  </thead>\n",
       "  <tbody>\n",
       "    <tr>\n",
       "      <th>0</th>\n",
       "      <td>/content/gdrive/MyDrive/wildlife/Archeys_frogs...</td>\n",
       "      <td>1126.923096</td>\n",
       "      <td>1039.332031</td>\n",
       "      <td>1264.653076</td>\n",
       "      <td>994.205688</td>\n",
       "      <td>1067.585571</td>\n",
       "      <td>816.122070</td>\n",
       "      <td>1248.020020</td>\n",
       "      <td>763.907959</td>\n",
       "      <td>993.965820</td>\n",
       "      <td>941.991577</td>\n",
       "      <td>1594.713135</td>\n",
       "      <td>811.385010</td>\n",
       "      <td>2628</td>\n",
       "      <td>1656</td>\n",
       "    </tr>\n",
       "    <tr>\n",
       "      <th>1</th>\n",
       "      <td>/content/gdrive/MyDrive/wildlife/Archeys_frogs...</td>\n",
       "      <td>712.792725</td>\n",
       "      <td>878.468506</td>\n",
       "      <td>816.583923</td>\n",
       "      <td>876.201294</td>\n",
       "      <td>694.755310</td>\n",
       "      <td>736.335205</td>\n",
       "      <td>764.705322</td>\n",
       "      <td>700.226685</td>\n",
       "      <td>624.805420</td>\n",
       "      <td>822.055176</td>\n",
       "      <td>1001.594116</td>\n",
       "      <td>785.980469</td>\n",
       "      <td>2497</td>\n",
       "      <td>1599</td>\n",
       "    </tr>\n",
       "    <tr>\n",
       "      <th>2</th>\n",
       "      <td>/content/gdrive/MyDrive/wildlife/Archeys_frogs...</td>\n",
       "      <td>885.637756</td>\n",
       "      <td>1007.863464</td>\n",
       "      <td>970.605286</td>\n",
       "      <td>1031.211304</td>\n",
       "      <td>908.882812</td>\n",
       "      <td>885.314575</td>\n",
       "      <td>989.759521</td>\n",
       "      <td>904.002441</td>\n",
       "      <td>824.620361</td>\n",
       "      <td>926.964722</td>\n",
       "      <td>1166.535889</td>\n",
       "      <td>1006.835266</td>\n",
       "      <td>2634</td>\n",
       "      <td>1750</td>\n",
       "    </tr>\n",
       "    <tr>\n",
       "      <th>3</th>\n",
       "      <td>/content/gdrive/MyDrive/wildlife/Archeys_frogs...</td>\n",
       "      <td>613.908813</td>\n",
       "      <td>1019.479797</td>\n",
       "      <td>743.594849</td>\n",
       "      <td>1035.384644</td>\n",
       "      <td>622.473022</td>\n",
       "      <td>813.939697</td>\n",
       "      <td>735.030701</td>\n",
       "      <td>766.224976</td>\n",
       "      <td>489.116608</td>\n",
       "      <td>906.922119</td>\n",
       "      <td>1102.066650</td>\n",
       "      <td>893.464111</td>\n",
       "      <td>2226</td>\n",
       "      <td>1663</td>\n",
       "    </tr>\n",
       "    <tr>\n",
       "      <th>4</th>\n",
       "      <td>/content/gdrive/MyDrive/wildlife/Archeys_frogs...</td>\n",
       "      <td>1449.327393</td>\n",
       "      <td>778.694946</td>\n",
       "      <td>1277.386475</td>\n",
       "      <td>764.939697</td>\n",
       "      <td>1443.595947</td>\n",
       "      <td>977.000183</td>\n",
       "      <td>1271.655029</td>\n",
       "      <td>1033.167603</td>\n",
       "      <td>1582.295044</td>\n",
       "      <td>899.053650</td>\n",
       "      <td>951.844910</td>\n",
       "      <td>926.564148</td>\n",
       "      <td>2655</td>\n",
       "      <td>1870</td>\n",
       "    </tr>\n",
       "  </tbody>\n",
       "</table>\n",
       "</div>"
      ],
      "text/plain": [
       "                                          image_path  ...  original_height_size\n",
       "0  /content/gdrive/MyDrive/wildlife/Archeys_frogs...  ...                  1656\n",
       "1  /content/gdrive/MyDrive/wildlife/Archeys_frogs...  ...                  1599\n",
       "2  /content/gdrive/MyDrive/wildlife/Archeys_frogs...  ...                  1750\n",
       "3  /content/gdrive/MyDrive/wildlife/Archeys_frogs...  ...                  1663\n",
       "4  /content/gdrive/MyDrive/wildlife/Archeys_frogs...  ...                  1870\n",
       "\n",
       "[5 rows x 15 columns]"
      ]
     },
     "metadata": {
      "tags": []
     },
     "execution_count": 19
    }
   ]
  },
  {
   "cell_type": "code",
   "metadata": {
    "id": "c0_Kh8sR9Alt",
    "executionInfo": {
     "status": "ok",
     "timestamp": 1621322230669,
     "user_tz": -180,
     "elapsed": 1108,
     "user": {
      "displayName": "Guy Hay",
      "photoUrl": "",
      "userId": "06159934666864177199"
     }
    }
   },
   "source": [
    "def create_train_val_test_split(df):\n",
    "    unique_paths = df.image_path.apply(lambda path: os.path.dirname(path))\n",
    "    unique_paths = unique_paths.unique()\n",
    "    # Splitting so no frogs with the same id will be in different groups\n",
    "    train_paths, test_paths = skm.train_test_split(unique_paths, test_size=0.3)\n",
    "    test_paths, val_paths = skm.train_test_split(test_paths, test_size=0.5)\n",
    "    train_df = df[\n",
    "        df.image_path.apply(\n",
    "            lambda x: np.any([k == os.path.dirname(x) for k in train_paths])\n",
    "        )\n",
    "    ]\n",
    "    val_df = df[\n",
    "        df.image_path.apply(\n",
    "            lambda x: np.any([k == os.path.dirname(x) for k in val_paths])\n",
    "        )\n",
    "    ]\n",
    "    test_df = df[\n",
    "        df.image_path.apply(\n",
    "            lambda x: np.any([k == os.path.dirname(x) for k in test_paths])\n",
    "        )\n",
    "    ]\n",
    "\n",
    "    train_df.reset_index(drop=True, inplace=True)\n",
    "    val_df.reset_index(drop=True, inplace=True)\n",
    "    test_df.reset_index(drop=True, inplace=True)\n",
    "\n",
    "    return train_df, val_df, test_df"
   ],
   "execution_count": 20,
   "outputs": []
  },
  {
   "cell_type": "code",
   "metadata": {
    "id": "dKEBL-wM-Vwk"
   },
   "source": [
    "train_df, val_df, test_df = create_train_val_test_split(df)"
   ],
   "execution_count": null,
   "outputs": []
  },
  {
   "cell_type": "code",
   "metadata": {
    "id": "1Qf1IzeqTEsu"
   },
   "source": [
    "assert not np.any(train_df.image_path.isin(val_df.image_path))\n",
    "assert not np.any(train_df.image_path.isin(test_df.image_path))\n",
    "assert not np.any(test_df.image_path.isin(val_df.image_path))"
   ],
   "execution_count": null,
   "outputs": []
  },
  {
   "cell_type": "code",
   "metadata": {
    "id": "q0xnBKa-L7Sh"
   },
   "source": [
    "train_df.to_pickle(\"./gdrive/MyDrive/wildlife/Archeys_frogs/train_db.pkl\")\n",
    "val_df.to_pickle(\"./gdrive/MyDrive/wildlife/Archeys_frogs/val_db.pkl\")\n",
    "test_df.to_pickle(\"./gdrive/MyDrive/wildlife/Archeys_frogs/test_db.pkl\")"
   ],
   "execution_count": null,
   "outputs": []
  },
  {
   "cell_type": "code",
   "metadata": {
    "id": "S2T1yTYuabIw"
   },
   "source": [
    "print(\"Train length: {0}\".format(len(train_df)))\n",
    "print(\"Val length: {0}\".format(len(val_df)))\n",
    "print(\"Test length: {0}\".format(len(test_df)))"
   ],
   "execution_count": null,
   "outputs": []
  },
  {
   "cell_type": "code",
   "metadata": {
    "id": "qJrKU6g4aj3U"
   },
   "source": [
    ""
   ],
   "execution_count": null,
   "outputs": []
  }
 ]
}